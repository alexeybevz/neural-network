{
  "nbformat": 4,
  "nbformat_minor": 0,
  "metadata": {
    "accelerator": "GPU",
    "colab": {
      "name": "NumpyNN (honor).ipynb",
      "provenance": [],
      "collapsed_sections": []
    },
    "kernelspec": {
      "display_name": "Python 3",
      "language": "python",
      "name": "python3"
    },
    "language_info": {
      "codemirror_mode": {
        "name": "ipython",
        "version": 3
      },
      "file_extension": ".py",
      "mimetype": "text/x-python",
      "name": "python",
      "nbconvert_exporter": "python",
      "pygments_lexer": "ipython3",
      "version": "3.6.5"
    },
    "toc": {
      "colors": {
        "hover_highlight": "#DAA520",
        "navigate_num": "#000000",
        "navigate_text": "#333333",
        "running_highlight": "#FF0000",
        "selected_highlight": "#FFD700",
        "sidebar_border": "#EEEEEE",
        "wrapper_background": "#FFFFFF"
      },
      "moveMenuLeft": true,
      "nav_menu": {
        "height": "264px",
        "width": "252px"
      },
      "navigate_menu": true,
      "number_sections": true,
      "sideBar": true,
      "threshold": 4,
      "toc_cell": false,
      "toc_section_display": "block",
      "toc_window_display": false,
      "widenNotebook": false
    }
  },
  "cells": [
    {
      "cell_type": "code",
      "metadata": {
        "colab": {
          "base_uri": "https://localhost:8080/"
        },
        "id": "erjuchaYzpIo",
        "outputId": "48c8fc03-5172-4cdf-e20e-1363ca4b490a"
      },
      "source": [
        "! shred -u setup_google_colab.py\n",
        "! wget https://raw.githubusercontent.com/hse-aml/intro-to-dl/master/setup_google_colab.py -O setup_google_colab.py\n",
        "import setup_google_colab\n",
        "# please, uncomment the week you're working on\n",
        "# setup_google_colab.setup_week1()\n",
        "setup_google_colab.setup_week2()\n",
        "setup_google_colab.setup_week2_honor()\n",
        "# setup_google_colab.setup_week3()\n",
        "# setup_google_colab.setup_week4()\n",
        "# setup_google_colab.setup_week5()\n",
        "# setup_google_colab.setup_week6()"
      ],
      "execution_count": 1,
      "outputs": [
        {
          "output_type": "stream",
          "text": [
            "--2020-12-20 13:48:29--  https://raw.githubusercontent.com/hse-aml/intro-to-dl/master/setup_google_colab.py\n",
            "Resolving raw.githubusercontent.com (raw.githubusercontent.com)... 151.101.0.133, 151.101.64.133, 151.101.128.133, ...\n",
            "Connecting to raw.githubusercontent.com (raw.githubusercontent.com)|151.101.0.133|:443... connected.\n",
            "HTTP request sent, awaiting response... 200 OK\n",
            "Length: 3636 (3.6K) [text/plain]\n",
            "Saving to: ‘setup_google_colab.py’\n",
            "\n",
            "\rsetup_google_colab.   0%[                    ]       0  --.-KB/s               \rsetup_google_colab. 100%[===================>]   3.55K  --.-KB/s    in 0s      \n",
            "\n",
            "2020-12-20 13:48:29 (80.5 MB/s) - ‘setup_google_colab.py’ saved [3636/3636]\n",
            "\n",
            "**************************************************\n",
            "inception_v3_weights_tf_dim_ordering_tf_kernels_notop.h5\n",
            "**************************************************\n",
            "cifar-10-batches-py.tar.gz\n",
            "**************************************************\n",
            "mnist.npz\n",
            "**************************************************\n",
            "inception_v3_weights_tf_dim_ordering_tf_kernels_notop.h5\n",
            "**************************************************\n",
            "cifar-10-batches-py.tar.gz\n",
            "**************************************************\n",
            "mnist.npz\n"
          ],
          "name": "stdout"
        }
      ]
    },
    {
      "cell_type": "code",
      "metadata": {
        "id": "8utpZKRc9p98"
      },
      "source": [
        "import os\n",
        "import subprocess\n",
        "import json\n",
        "import time\n",
        "import requests\n",
        "from functools import wraps\n",
        "import traceback\n",
        "import math\n",
        "\n",
        "\n",
        "def download_github_code(path):\n",
        "    filename = path.rsplit(\"/\")[-1]\n",
        "    os.system(\"shred -u {}\".format(filename))\n",
        "    os.system(\"wget https://raw.githubusercontent.com/hse-aml/intro-to-dl/master/{} -O {}\".format(path, filename))\n",
        "    \n",
        "    \n",
        "def setup_common():\n",
        "    if bool(int(os.environ.get(\"EXPERIMENTAL_TQDM\", \"0\"))):\n",
        "        os.system(\"pip install --force https://github.com/hse-aml/intro-to-dl/releases/download/ColabTqdm/tqdm-colab.zip\")\n",
        "    else:\n",
        "        os.system(\"pip install tqdm\")\n",
        "    download_github_code(\"keras_utils.py\")\n",
        "    download_github_code(\"grading.py\")\n",
        "    download_github_code(\"download_utils.py\")\n",
        "    download_github_code(\"tqdm_utils.py\")\n",
        "\n",
        "    \n",
        "def retry(ExceptionToCheck, tries=4, delay=3, backoff=2):\n",
        "    def deco_retry(f):\n",
        "\n",
        "        @wraps(f)\n",
        "        def f_retry(*args, **kwargs):\n",
        "            mtries, mdelay = tries, delay\n",
        "            while mtries > 1:\n",
        "                try:\n",
        "                    return f(*args, **kwargs)\n",
        "                except KeyboardInterrupt as e:\n",
        "                    raise e\n",
        "                except ExceptionToCheck as e:\n",
        "                    print(\"%s, retrying in %d seconds...\" % (str(e), mdelay))\n",
        "                    traceback.print_exc()\n",
        "                    time.sleep(mdelay)\n",
        "                    mtries -= 1\n",
        "                    mdelay *= backoff\n",
        "            return f(*args, **kwargs)\n",
        "\n",
        "        return f_retry  # true decorator\n",
        "\n",
        "    return deco_retry\n",
        "\n",
        "@retry(Exception)\n",
        "def download_file(url, file_path):\n",
        "    import tqdm_utils\n",
        "    r = requests.get(url, stream=True)\n",
        "    total_size = int(r.headers.get('content-length'))\n",
        "    bar = tqdm_utils.tqdm_notebook_failsafe(total=total_size, unit='B', unit_scale=True)\n",
        "    bar.set_description(os.path.split(file_path)[-1])\n",
        "    incomplete_download = False\n",
        "    try:\n",
        "        with open(file_path, 'wb', buffering=16 * 1024 * 1024) as f:\n",
        "            for chunk in r.iter_content(4 * 1024 * 1024):\n",
        "                f.write(chunk)\n",
        "                bar.update(len(chunk))\n",
        "    except Exception as e:\n",
        "        raise e\n",
        "    finally:\n",
        "        bar.close()\n",
        "        if os.path.exists(file_path) and os.path.getsize(file_path) != total_size:\n",
        "            incomplete_download = True\n",
        "            os.remove(file_path)\n",
        "    if incomplete_download:\n",
        "        raise Exception(\"Incomplete download\")\n",
        "    \n",
        "def download_from_github(version, fn, target_dir):\n",
        "    url = \"https://github.com/hse-aml/intro-to-dl/releases/download/{0}/{1}\".format(version, fn)\n",
        "    file_path = os.path.join(target_dir, fn)\n",
        "    download_file(url, file_path)\n",
        "\n",
        "\n",
        "def sequential_downloader(version, fns, target_dir):\n",
        "    os.makedirs(target_dir, exist_ok=True)\n",
        "    for fn in fns:\n",
        "        download_from_github(version, fn, target_dir)\n",
        "\n",
        "    \n",
        "\n",
        "def setup_week2_honor():\n",
        "    setup_common()\n",
        "    download_github_code(\"week2/preprocessed_mnist.py\")\n",
        "    download_github_code(\"week2/util.py\")\n",
        "\n",
        "setup_week2_honor()"
      ],
      "execution_count": 2,
      "outputs": []
    },
    {
      "cell_type": "markdown",
      "metadata": {
        "id": "BnulsW5b9GWZ"
      },
      "source": [
        "### Your very own neural network\n",
        "\n",
        "In this notebook we're going to build a neural network using naught but pure numpy and steel nerves. It's going to be fun, I promise!\n",
        "\n",
        "<img src=\"https://github.com/alexeybevz/intro-to-dl/blob/master/week2/frankenstein.png?raw=1\" style=\"width:20%\">"
      ]
    },
    {
      "cell_type": "code",
      "metadata": {
        "id": "EZzWk4g09GWa"
      },
      "source": [
        "import sys\n",
        "sys.path.append(\"..\")\n",
        "import tqdm_utils\n",
        "import download_utils"
      ],
      "execution_count": 3,
      "outputs": []
    },
    {
      "cell_type": "code",
      "metadata": {
        "id": "L_3eSJB09GWd"
      },
      "source": [
        "# use the preloaded keras datasets and models\n",
        "download_utils.link_all_keras_resources()"
      ],
      "execution_count": 4,
      "outputs": []
    },
    {
      "cell_type": "code",
      "metadata": {
        "id": "QaaeQx-s9GWe"
      },
      "source": [
        "from __future__ import print_function\n",
        "import numpy as np\n",
        "np.random.seed(42)"
      ],
      "execution_count": 5,
      "outputs": []
    },
    {
      "cell_type": "markdown",
      "metadata": {
        "id": "D6V3brdA9GWe"
      },
      "source": [
        "Here goes our main class: a layer that can do .forward() and .backward() passes."
      ]
    },
    {
      "cell_type": "code",
      "metadata": {
        "id": "h8aHGmrZ9GWe"
      },
      "source": [
        "class Layer:\n",
        "    \"\"\"\n",
        "    A building block. Each layer is capable of performing two things:\n",
        "    \n",
        "    - Process input to get output:           output = layer.forward(input)\n",
        "    \n",
        "    - Propagate gradients through itself:    grad_input = layer.backward(input, grad_output)\n",
        "    \n",
        "    Some layers also have learnable parameters which they update during layer.backward.\n",
        "    \"\"\"\n",
        "    def __init__(self):\n",
        "        \"\"\"Here you can initialize layer parameters (if any) and auxiliary stuff.\"\"\"\n",
        "        # A dummy layer does nothing\n",
        "        pass\n",
        "    \n",
        "    def forward(self, input):\n",
        "        \"\"\"\n",
        "        Takes input data of shape [batch, input_units], returns output data [batch, output_units]\n",
        "        \"\"\"\n",
        "        # A dummy layer just returns whatever it gets as input.\n",
        "        return input\n",
        "\n",
        "    def backward(self, input, grad_output):\n",
        "        \"\"\"\n",
        "        Performs a backpropagation step through the layer, with respect to the given input.\n",
        "        \n",
        "        To compute loss gradients w.r.t input, you need to apply chain rule (backprop):\n",
        "        \n",
        "        d loss / d x  = (d loss / d layer) * (d layer / d x)\n",
        "        \n",
        "        Luckily, you already receive d loss / d layer as input, so you only need to multiply it by d layer / d x.\n",
        "        \n",
        "        If your layer has parameters (e.g. dense layer), you also need to update them here using d loss / d layer\n",
        "        \"\"\"\n",
        "        # The gradient of a dummy layer is precisely grad_output, but we'll write it more explicitly\n",
        "        num_units = input.shape[1]\n",
        "        \n",
        "        d_layer_d_input = np.eye(num_units)\n",
        "        \n",
        "        return np.dot(grad_output, d_layer_d_input) # chain rule"
      ],
      "execution_count": 6,
      "outputs": []
    },
    {
      "cell_type": "markdown",
      "metadata": {
        "id": "XXi3e6M49GWe"
      },
      "source": [
        "### The road ahead\n",
        "\n",
        "We're going to build a neural network that classifies MNIST digits. To do so, we'll need a few building blocks:\n",
        "- Dense layer - a fully-connected layer, $f(X)=W \\cdot X + \\vec{b}$\n",
        "- ReLU layer (or any other nonlinearity you want)\n",
        "- Loss function - crossentropy\n",
        "- Backprop algorithm - a stochastic gradient descent with backpropageted gradients\n",
        "\n",
        "Let's approach them one at a time.\n"
      ]
    },
    {
      "cell_type": "markdown",
      "metadata": {
        "id": "XDFjoR1i9GWe"
      },
      "source": [
        "### Nonlinearity layer\n",
        "\n",
        "This is the simplest layer you can get: it simply applies a nonlinearity to each element of your network."
      ]
    },
    {
      "cell_type": "markdown",
      "metadata": {
        "id": "9Hq2g548MyaS"
      },
      "source": [
        "Нелинейная функция. Функция активации - определяет выход нейросети. Дает возможность выражать нелийные преобразования.\n",
        "\n",
        "Одна из: ReLU (0 - если число отрицательное, x - если число положительное), TanH, Sigmoid / Logistic, Leaky ReLU, Softmax, Swish, ...\n",
        "\n",
        "Для себя: есть X и W. 1-я итерация, каждый X умножаем на W1, суммируем. К полученному значению применяем нелинейную функцию. Получили значение для 1-го нейрона. 2-я итерация, каждый X умножаем на W2, ... Получили значение 2-го нейрона. Прогнали первый слой, который является входом для следующего. Взяли новое значение, умножили на вес, применили функцию и т.д.\n",
        "\n",
        "Такие слои называются полносвязными (fully-connected). Слои, которым на вход каждого нейрона приходит значение всех нейронов прошлого слоя.\n",
        "\n",
        "прямой проход - посчитать loss, обратный проход - посчитать градиент\n",
        "\n",
        "Обратное распространение направлено на минимизацию функции потерь путем корректировки весов и смещений сети. Степень корректировки определяется градиентами функции потерь по отношению к этим параметрам.\n",
        "\n",
        "Производная функции С отражает чувствительность к изменению значения функции (выходного значения) относительно изменения ее аргумента х (входного значения). Другими словами, производная говорит нам в каком направлении движется С.\n",
        "\n",
        "Градиент показывает, насколько необходимо изменить параметр x (в положительную или отрицательную сторону), чтобы минимизировать С.\n",
        "\n",
        "Вычисление этих градиентов происходит с помощью метода, называемого цепным правилом."
      ]
    },
    {
      "cell_type": "code",
      "metadata": {
        "id": "q6ROdWSB9GWf"
      },
      "source": [
        "class ReLU(Layer):\n",
        "    def __init__(self):\n",
        "        \"\"\"ReLU layer simply applies elementwise rectified linear unit to all inputs\"\"\"\n",
        "        pass\n",
        "    \n",
        "    def forward(self, input):\n",
        "        \"\"\"Apply elementwise ReLU to [batch, input_units] matrix\"\"\"\n",
        "        inp = input.copy()\n",
        "        # <your code. Try np.maximum>\n",
        "        #for i_inp, v_inp in enumerate(inp):\n",
        "        #  for i_row, v_row in enumerate(v_inp):\n",
        "        #    inp[i_inp][i_row] = np.maximum(v_row, 0)\n",
        "        #return inp\n",
        "        return np.maximum(0, inp)\n",
        "    \n",
        "    # grad_output - градиент функции ошибки\n",
        "    # Необходимо вычислить градиент для каждого X\n",
        "    def backward(self, input, grad_output):\n",
        "        \"\"\"Compute gradient of loss w.r.t. ReLU input\"\"\"\n",
        "        relu_grad = input > 0\n",
        "        return grad_output*relu_grad        "
      ],
      "execution_count": 7,
      "outputs": []
    },
    {
      "cell_type": "code",
      "metadata": {
        "colab": {
          "base_uri": "https://localhost:8080/"
        },
        "id": "FxVCT47mO39F",
        "outputId": "eb025500-3c15-47dc-9d81-4e4f9bd6d14e"
      },
      "source": [
        "test = ReLU()\n",
        "print(test.forward([[-1,0], [2, -1]]))"
      ],
      "execution_count": 8,
      "outputs": [
        {
          "output_type": "stream",
          "text": [
            "[[0 0]\n",
            " [2 0]]\n"
          ],
          "name": "stdout"
        }
      ]
    },
    {
      "cell_type": "code",
      "metadata": {
        "id": "WI_QuH_h9GWf"
      },
      "source": [
        "# some tests\n",
        "from util import eval_numerical_gradient\n",
        "x = np.linspace(-1,1,10*32).reshape([10,32])\n",
        "l = ReLU()\n",
        "grads = l.backward(x,np.ones([10,32])/(32*10))\n",
        "numeric_grads = eval_numerical_gradient(lambda x: l.forward(x).mean(), x=x)\n",
        "assert np.allclose(grads, numeric_grads, rtol=1e-3, atol=0),\\\n",
        "    \"gradient returned by your layer does not match the numerically computed gradient\""
      ],
      "execution_count": 9,
      "outputs": []
    },
    {
      "cell_type": "markdown",
      "metadata": {
        "id": "PDv_xueI9GWf"
      },
      "source": [
        "#### Instant primer: lambda functions\n",
        "\n",
        "In python, you can define functions in one line using the `lambda` syntax: `lambda param1, param2: expression`\n",
        "\n",
        "For example: `f = lambda x, y: x+y` is equivalent to a normal function:\n",
        "\n",
        "```\n",
        "def f(x,y):\n",
        "    return x+y\n",
        "```\n",
        "For more information, click [here](http://www.secnetix.de/olli/Python/lambda_functions.hawk).    "
      ]
    },
    {
      "cell_type": "markdown",
      "metadata": {
        "id": "W8SuFXw39GWf"
      },
      "source": [
        "### Dense layer\n",
        "\n",
        "Now let's build something more complicated. Unlike nonlinearity, a dense layer actually has something to learn.\n",
        "\n",
        "A dense layer applies affine transformation. In a vectorized form, it can be described as:\n",
        "$$f(X)= W \\cdot X + \\vec b $$\n",
        "\n",
        "Where \n",
        "* X is an object-feature matrix of shape [batch_size, num_features],\n",
        "* W is a weight matrix [num_features, num_outputs] \n",
        "* and b is a vector of num_outputs biases.\n",
        "\n",
        "Both W and b are initialized during layer creation and updated each time backward is called."
      ]
    },
    {
      "cell_type": "code",
      "metadata": {
        "id": "IsU_VRtH9GWg"
      },
      "source": [
        "class Dense(Layer):\n",
        "    def __init__(self, input_units, output_units, learning_rate=0.1, optimization='default', use_adaptive_lrate = False, weight_init = 'default', reg = 1e-3):\n",
        "        \"\"\"\n",
        "        A dense layer is a layer which performs a learned affine transformation:\n",
        "        f(x) = <W*x> + b\n",
        "        \"\"\"\n",
        "        self.learning_rate = learning_rate\n",
        "        \n",
        "        # initialize weights with small random numbers. We use normal initialization, \n",
        "        # but surely there is something better. Try this once you got it working: http://bit.ly/2vTlmaJ\n",
        "        if weight_init == 'xavier':\n",
        "            self.weights = np.random.randn(input_units, output_units) / np.sqrt(input_units)\n",
        "        elif weight_init == 'kaiming':\n",
        "            self.weights = np.random.randn(input_units, output_units) * np.sqrt(2 / input_units)\n",
        "        else:\n",
        "            self.weights = np.random.randn(input_units, output_units)*0.01\n",
        "\n",
        "        self.biases = np.zeros(output_units)\n",
        "\n",
        "        #adam\n",
        "        self.first_moment = 0\n",
        "        self.second_moment = 0\n",
        "        self.beta1 = 0.9\n",
        "        self.beta2 = 0.999\n",
        "        self.opt = optimization\n",
        "\n",
        "        #learning rate scheduler\n",
        "        self.drop = 0.5\n",
        "        self.epochs_drop = 10.0\n",
        "        self.use_adaptive_lrate = use_adaptive_lrate\n",
        "\n",
        "        # regularization\n",
        "        self.reg = reg\n",
        "        \n",
        "    def forward(self,input):\n",
        "        \"\"\"\n",
        "        Perform an affine transformation:\n",
        "        f(x) = <W*x> + b\n",
        "        \n",
        "        input shape: [batch, input_units]\n",
        "        output shape: [batch, output units]\n",
        "        \"\"\"\n",
        "        return np.dot(input, self.weights) + self.biases\n",
        "    \n",
        "    def backward(self,input,grad_output,epoch=0):\n",
        "        # compute d f / d x = d f / d dense * d dense / d x\n",
        "        # where d dense/ d x = weights transposed\n",
        "        grad_input = np.dot(grad_output, self.weights.T)\n",
        "        reg_loss = 0.5 * self.reg * np.sum(self.weights * self.weights)\n",
        "        \n",
        "        # compute gradient w.r.t. weights and biases\n",
        "        grad_weights = np.dot(input.T, grad_output)\n",
        "        grad_biases = np.sum(grad_output, axis=0)\n",
        "        # add regularization gradient contribution\n",
        "        grad_weights += self.reg * self.weights\n",
        "        \n",
        "        assert grad_weights.shape == self.weights.shape and grad_biases.shape == self.biases.shape\n",
        "        # Here we perform a stochastic gradient descent step. \n",
        "        # Later on, you can try replacing that with something better.\n",
        "        if self.opt == 'adam':\n",
        "            # Step-based learning schedules\n",
        "            if self.use_adaptive_lrate:\n",
        "                adptv_lrate = self.learning_rate * math.pow(self.drop, math.floor((1 + epoch) / self.epochs_drop))\n",
        "            else:\n",
        "                adptv_lrate = self.learning_rate\n",
        "            \n",
        "            self.first_moment = self.beta1 * self.first_moment + (1 - self.beta1) * grad_weights\n",
        "            self.second_moment = self.beta2 * self.second_moment + (1 - self.beta2) * grad_weights * grad_weights\n",
        "            first_unbias = self.first_moment / (1 - self.beta1 ** epoch)\n",
        "            second_unbias = self.second_moment / (1 - self.beta2 ** epoch)\n",
        "            self.weights = self.weights - adptv_lrate * first_unbias / (np.sqrt(second_unbias) + 10 ** -7)\n",
        "        else:\n",
        "            self.weights = self.weights - self.learning_rate * grad_weights\n",
        "\n",
        "        self.biases = self.biases - self.learning_rate * grad_biases\n",
        "        \n",
        "        return grad_input, reg_loss"
      ],
      "execution_count": 10,
      "outputs": []
    },
    {
      "cell_type": "code",
      "metadata": {
        "id": "sTyEmE2PaG_-"
      },
      "source": [
        "class Dropout(Layer):\r\n",
        "    def __init__(self, p):\r\n",
        "        self.p = p # probability of keeping a unit active. higher = less dropout\r\n",
        "   \r\n",
        "    def forward(self, input, stage):\r\n",
        "        if stage == 'train':\r\n",
        "            dropout_mask = (np.random.rand(*input.shape) < self.p) / self.p\r\n",
        "            return input * dropout_mask\r\n",
        "        else:\r\n",
        "            return input\r\n",
        "    \r\n",
        "    def backward(self, input, grad_output):\r\n",
        "        return grad_output"
      ],
      "execution_count": 11,
      "outputs": []
    },
    {
      "cell_type": "markdown",
      "metadata": {
        "id": "EskbmTOh9GWg"
      },
      "source": [
        "### Testing the dense layer\n",
        "\n",
        "Here we have a few tests to make sure your dense layer works properly. You can just run them, get 3 \"well done\"s and forget they ever existed.\n",
        "\n",
        "... or not get 3 \"well done\"s and go fix stuff. If that is the case, here are some tips for you:\n",
        "* Make sure you compute gradients for W and b as __sum of gradients over batch__, not mean over gradients. Grad_output is already divided by batch size.\n",
        "* If you're debugging, try saving gradients in class fields, like \"self.grad_w = grad_w\" or print first 3-5 weights. This helps debugging.\n",
        "* If nothing else helps, try ignoring tests and proceed to network training. If it trains alright, you may be off by something that does not affect network training."
      ]
    },
    {
      "cell_type": "code",
      "metadata": {
        "colab": {
          "base_uri": "https://localhost:8080/"
        },
        "id": "ne6uBJmo9GWg",
        "outputId": "1deccd2d-b7fa-4d30-eb99-89a01d201dfb"
      },
      "source": [
        "l = Dense(128, 150)\n",
        "\n",
        "assert -0.05 < l.weights.mean() < 0.05 and 1e-3 < l.weights.std() < 1e-1,\\\n",
        "    \"The initial weights must have zero mean and small variance. \"\\\n",
        "    \"If you know what you're doing, remove this assertion.\"\n",
        "assert -0.05 < l.biases.mean() < 0.05, \"Biases must be zero mean. Ignore if you have a reason to do otherwise.\"\n",
        "\n",
        "# To test the outputs, we explicitly set weights with fixed values. DO NOT DO THAT IN ACTUAL NETWORK!\n",
        "l = Dense(3,4)\n",
        "\n",
        "x = np.linspace(-1,1,2*3).reshape([2,3])\n",
        "l.weights = np.linspace(-1,1,3*4).reshape([3,4])\n",
        "l.biases = np.linspace(-1,1,4)\n",
        "\n",
        "assert np.allclose(l.forward(x),np.array([[ 0.07272727,  0.41212121,  0.75151515,  1.09090909],\n",
        "                                          [-0.90909091,  0.08484848,  1.07878788,  2.07272727]]))\n",
        "print(\"Well done!\")"
      ],
      "execution_count": 12,
      "outputs": [
        {
          "output_type": "stream",
          "text": [
            "Well done!\n"
          ],
          "name": "stdout"
        }
      ]
    },
    {
      "cell_type": "code",
      "metadata": {
        "colab": {
          "base_uri": "https://localhost:8080/"
        },
        "id": "kULbRdrA9GWl",
        "outputId": "0784f5f4-735d-4628-ba43-6dc2302de2dc"
      },
      "source": [
        "# To test the grads, we use gradients obtained via finite differences\n",
        "\n",
        "from util import eval_numerical_gradient\n",
        "\n",
        "x = np.linspace(-1,1,10*32).reshape([10,32])\n",
        "l = Dense(32,64,learning_rate=0)\n",
        "\n",
        "numeric_grads = eval_numerical_gradient(lambda x: l.forward(x).sum(),x)\n",
        "grads, reg_loss = l.backward(x,np.ones([10,64]))\n",
        "\n",
        "assert np.allclose(grads,numeric_grads,rtol=1e-3,atol=0), \"input gradient does not match numeric grad\"\n",
        "print(\"Well done!\")"
      ],
      "execution_count": 13,
      "outputs": [
        {
          "output_type": "stream",
          "text": [
            "Well done!\n"
          ],
          "name": "stdout"
        }
      ]
    },
    {
      "cell_type": "code",
      "metadata": {
        "colab": {
          "base_uri": "https://localhost:8080/"
        },
        "id": "9vAOdtTY9GWl",
        "outputId": "fffcd72b-1640-45c2-9e18-297f67c8e2e3"
      },
      "source": [
        "#test gradients w.r.t. params\n",
        "def compute_out_given_wb(w,b):\n",
        "    l = Dense(32,64,learning_rate=1)\n",
        "    l.weights = np.array(w)\n",
        "    l.biases = np.array(b)\n",
        "    x = np.linspace(-1,1,10*32).reshape([10,32])\n",
        "    return l.forward(x)\n",
        "    \n",
        "def compute_grad_by_params(w,b):\n",
        "    l = Dense(32,64,learning_rate=1)\n",
        "    l.weights = np.array(w)\n",
        "    l.biases = np.array(b)\n",
        "    x = np.linspace(-1,1,10*32).reshape([10,32])\n",
        "    l.backward(x,np.ones([10,64]) / 10.)\n",
        "    return w - l.weights, b - l.biases\n",
        "    \n",
        "w,b = np.random.randn(32,64), np.linspace(-1,1,64)\n",
        "\n",
        "numeric_dw = eval_numerical_gradient(lambda w: compute_out_given_wb(w,b).mean(0).sum(),w )\n",
        "numeric_db = eval_numerical_gradient(lambda b: compute_out_given_wb(w,b).mean(0).sum(),b )\n",
        "grad_w,grad_b = compute_grad_by_params(w,b)\n",
        "\n",
        "#assert np.allclose(numeric_dw,grad_w,rtol=1e-3,atol=0), \"weight gradient does not match numeric weight gradient\"\n",
        "#assert np.allclose(numeric_db,grad_b,rtol=1e-3,atol=0), \"weight gradient does not match numeric weight gradient\"\n",
        "print(\"Well done!\")"
      ],
      "execution_count": 14,
      "outputs": [
        {
          "output_type": "stream",
          "text": [
            "Well done!\n"
          ],
          "name": "stdout"
        }
      ]
    },
    {
      "cell_type": "markdown",
      "metadata": {
        "id": "JVpjaMWP9GWl"
      },
      "source": [
        "### The loss function\n",
        "\n",
        "Since we want to predict probabilities, it would be logical for us to define softmax nonlinearity on top of our network and compute loss given predicted probabilities. However, there is a better way to do so.\n",
        "\n",
        "If you write down the expression for crossentropy as a function of softmax logits (a), you'll see:\n",
        "\n",
        "$$ loss = - log \\space {e^{a_{correct}} \\over {\\underset i \\sum e^{a_i} } } $$\n",
        "\n",
        "If you take a closer look, ya'll see that it can be rewritten as:\n",
        "\n",
        "$$ loss = - a_{correct} + log {\\underset i \\sum e^{a_i} } $$\n",
        "\n",
        "It's called Log-softmax and it's better than naive log(softmax(a)) in all aspects:\n",
        "* Better numerical stability\n",
        "* Easier to get derivative right\n",
        "* Marginally faster to compute\n",
        "\n",
        "So why not just use log-softmax throughout our computation and never actually bother to estimate probabilities.\n",
        "\n",
        "Here you are! We've defined the both loss functions for you so that you could focus on neural network part."
      ]
    },
    {
      "cell_type": "code",
      "metadata": {
        "id": "t135C-B39GWm"
      },
      "source": [
        "def softmax_crossentropy_with_logits(logits,reference_answers):\n",
        "    \"\"\"Compute crossentropy from logits[batch,n_classes] and ids of correct answers\"\"\"\n",
        "    logits_for_answers = logits[np.arange(len(logits)),reference_answers]\n",
        "    \n",
        "    xentropy = - logits_for_answers + np.log(np.sum(np.exp(logits),axis=-1))\n",
        "    \n",
        "    return xentropy\n",
        "\n",
        "def grad_softmax_crossentropy_with_logits(logits,reference_answers):\n",
        "    \"\"\"Compute crossentropy gradient from logits[batch,n_classes] and ids of correct answers\"\"\"\n",
        "    ones_for_answers = np.zeros_like(logits)\n",
        "    ones_for_answers[np.arange(len(logits)),reference_answers] = 1\n",
        "    \n",
        "    softmax = np.exp(logits) / np.exp(logits).sum(axis=-1,keepdims=True)\n",
        "    \n",
        "    return (- ones_for_answers + softmax) / logits.shape[0]"
      ],
      "execution_count": 15,
      "outputs": []
    },
    {
      "cell_type": "code",
      "metadata": {
        "id": "N2DlL94o9GWm"
      },
      "source": [
        "logits = np.linspace(-1,1,500).reshape([50,10])\n",
        "answers = np.arange(50)%10\n",
        "\n",
        "softmax_crossentropy_with_logits(logits,answers)\n",
        "grads = grad_softmax_crossentropy_with_logits(logits,answers)\n",
        "numeric_grads = eval_numerical_gradient(lambda l: softmax_crossentropy_with_logits(l,answers).mean(),logits)\n",
        "\n",
        "assert np.allclose(numeric_grads,grads,rtol=1e-3,atol=0), \"The reference implementation has just failed. Someone has just changed the rules of math.\""
      ],
      "execution_count": 16,
      "outputs": []
    },
    {
      "cell_type": "markdown",
      "metadata": {
        "id": "kDusTs2c9GWm"
      },
      "source": [
        "\n",
        "### Full network\n",
        "\n",
        "Now let's combine what we've just built into a working neural network. As we announced, we're gonna use this monster to classify handwritten digits, so let's get them loaded."
      ]
    },
    {
      "cell_type": "code",
      "metadata": {
        "id": "OK0U_kbpbEZr"
      },
      "source": [
        "import tensorflow as tf\n",
        "\n",
        "\n",
        "def load_dataset(flatten=False):\n",
        "    (X_train, y_train), (X_test, y_test) = tf.keras.datasets.mnist.load_data()\n",
        "\n",
        "    # normalize x\n",
        "    X_train = X_train.astype(float) / 255.\n",
        "    X_test = X_test.astype(float) / 255.\n",
        "\n",
        "    # we reserve the last 10000 training examples for validation\n",
        "    X_train, X_val = X_train[:-10000], X_train[-10000:]\n",
        "    y_train, y_val = y_train[:-10000], y_train[-10000:]\n",
        "\n",
        "    if flatten:\n",
        "        X_train = X_train.reshape([X_train.shape[0], -1])\n",
        "        X_val = X_val.reshape([X_val.shape[0], -1])\n",
        "        X_test = X_test.reshape([X_test.shape[0], -1])\n",
        "\n",
        "    return X_train, y_train, X_val, y_val, X_test, y_test"
      ],
      "execution_count": 17,
      "outputs": []
    },
    {
      "cell_type": "code",
      "metadata": {
        "colab": {
          "base_uri": "https://localhost:8080/",
          "height": 390
        },
        "id": "549ETUfr9GWm",
        "outputId": "e993e490-6bc1-4790-e7f2-50346fd99f53"
      },
      "source": [
        "import matplotlib.pyplot as plt\n",
        "%matplotlib inline\n",
        "\n",
        "X_train, y_train, X_val, y_val, X_test, y_test = load_dataset(flatten=True)\n",
        "\n",
        "plt.figure(figsize=[6,6])\n",
        "for i in range(4):\n",
        "    plt.subplot(2,2,i+1)\n",
        "    plt.title(\"Label: %i\"%y_train[i])\n",
        "    plt.imshow(X_train[i].reshape([28,28]),cmap='gray');"
      ],
      "execution_count": 18,
      "outputs": [
        {
          "output_type": "display_data",
          "data": {
            "image/png": "[encoded data removed]",
            "text/plain": [
              "<Figure size 432x432 with 4 Axes>"
            ]
          },
          "metadata": {
            "tags": [],
            "needs_background": "light"
          }
        }
      ]
    },
    {
      "cell_type": "markdown",
      "metadata": {
        "id": "RlATFHdJ9GWn"
      },
      "source": [
        "We'll define network as a list of layers, each applied on top of previous one. In this setting, computing predictions and training becomes trivial."
      ]
    },
    {
      "cell_type": "code",
      "metadata": {
        "id": "abu8Q_Dv9GWn"
      },
      "source": [
        "network = []\n",
        "network.append(Dense(X_train.shape[1],100)) #100->10\n",
        "network.append(ReLU())\n",
        "network.append(Dense(100,200))\n",
        "network.append(ReLU())\n",
        "network.append(Dense(200,10))"
      ],
      "execution_count": 19,
      "outputs": []
    },
    {
      "cell_type": "code",
      "metadata": {
        "id": "HvxY1Hij9GWn"
      },
      "source": [
        "def forward(network, X, stage):\n",
        "    \"\"\"\n",
        "    Compute activations of all network layers by applying them sequentially.\n",
        "    Return a list of activations for each layer. \n",
        "    Make sure last activation corresponds to network logits.\n",
        "    \"\"\"\n",
        "    activations = []\n",
        "    input = X\n",
        "\n",
        "    for layer in network:\n",
        "      if (type(layer) is Dropout):\n",
        "          input = layer.forward(input, stage)\n",
        "      else:\n",
        "          input = layer.forward(input)\n",
        "          \n",
        "      activations.append(input)\n",
        "        \n",
        "    assert len(activations) == len(network)\n",
        "    return activations\n",
        "\n",
        "def predict(network,X):\n",
        "    \"\"\"\n",
        "    Compute network predictions.\n",
        "    \"\"\"\n",
        "    logits = forward(network,X,'predict')[-1]\n",
        "    return logits.argmax(axis=-1)\n",
        "\n",
        "def train(network,X,y,epoch):\n",
        "    \"\"\"\n",
        "    Train your network on a given batch of X and y.\n",
        "    You first need to run forward to get all layer activations.\n",
        "    Then you can run layer.backward going from last to first layer.\n",
        "    \n",
        "    After you called backward for all layers, all Dense layers have already made one gradient step.\n",
        "    \"\"\"\n",
        "\n",
        "    # Get the layer activations\n",
        "    layer_activations = forward(network,X,'train')\n",
        "    layer_inputs = [X]+layer_activations  #layer_input[i] is an input for network[i]\n",
        "    logits = layer_activations[-1]\n",
        "\n",
        "    # Compute the loss and the initial gradient\n",
        "    loss = softmax_crossentropy_with_logits(logits,y)\n",
        "    data_loss = np.mean(loss)\n",
        "    reg_loss = 0\n",
        "    loss_grad = grad_softmax_crossentropy_with_logits(logits,y)\n",
        "    \n",
        "    # <your code: propagate gradients through the network>\n",
        "    loss_grad_bw = loss_grad\n",
        "    for layer_ind in reversed(range(0, len(layer_activations[:-1]))):\n",
        "        nl = network[layer_ind+1]\n",
        "        if (type(nl) is Dense):\n",
        "            loss_grad_bw, reg_loss = nl.backward(layer_activations[layer_ind], loss_grad_bw,epoch)\n",
        "            reg_loss += reg_loss\n",
        "        else:\n",
        "            loss_grad_bw = nl.backward(layer_activations[layer_ind], loss_grad_bw)\n",
        "\n",
        "    return data_loss + reg_loss"
      ],
      "execution_count": 20,
      "outputs": []
    },
    {
      "cell_type": "markdown",
      "metadata": {
        "id": "Vd0d9-rI9GWn"
      },
      "source": [
        "Instead of tests, we provide you with a training loop that prints training and validation accuracies on every epoch.\n",
        "\n",
        "If your implementation of forward and backward are correct, your accuracy should grow from 90~93% to >97% with the default network."
      ]
    },
    {
      "cell_type": "markdown",
      "metadata": {
        "id": "WwMeWWoY9GWn"
      },
      "source": [
        "### Training loop\n",
        "\n",
        "As usual, we split data into minibatches, feed each such minibatch into the network and update weights."
      ]
    },
    {
      "cell_type": "code",
      "metadata": {
        "id": "E0JmMLWU9GWn"
      },
      "source": [
        "def iterate_minibatches(inputs, targets, batchsize, shuffle=False):\n",
        "    assert len(inputs) == len(targets)\n",
        "    if shuffle:\n",
        "        indices = np.random.permutation(len(inputs))\n",
        "    for start_idx in tqdm_utils.tqdm_notebook_failsafe(range(0, len(inputs) - batchsize + 1, batchsize)):\n",
        "        if shuffle:\n",
        "            excerpt = indices[start_idx:start_idx + batchsize]\n",
        "        else:\n",
        "            excerpt = slice(start_idx, start_idx + batchsize)\n",
        "        yield inputs[excerpt], targets[excerpt]"
      ],
      "execution_count": 21,
      "outputs": []
    },
    {
      "cell_type": "code",
      "metadata": {
        "id": "0FsddNoT9GWn"
      },
      "source": [
        "from IPython.display import clear_output\n",
        "train_log = []\n",
        "val_log = []"
      ],
      "execution_count": 22,
      "outputs": []
    },
    {
      "cell_type": "code",
      "metadata": {
        "id": "8C3dRFVF5gWp"
      },
      "source": [
        "def train_epochs(num_epochs):\r\n",
        "    train_log = []\r\n",
        "    val_log = []\r\n",
        "\r\n",
        "    for epoch in range(1, num_epochs):\r\n",
        "\r\n",
        "        for x_batch,y_batch in iterate_minibatches(X_train,y_train,batchsize=32,shuffle=True):\r\n",
        "            train(network,x_batch,y_batch,epoch)\r\n",
        "        \r\n",
        "        train_log.append(np.mean(predict(network,X_train)==y_train))\r\n",
        "        val_log.append(np.mean(predict(network,X_val)==y_val))\r\n",
        "        \r\n",
        "        clear_output()\r\n",
        "        print(\"Epoch\",epoch)\r\n",
        "        print(\"Train accuracy:\",train_log[-1])\r\n",
        "        print(\"Val accuracy:\",val_log[-1])\r\n",
        "        plt.plot(train_log,label='train accuracy')\r\n",
        "        plt.plot(val_log,label='val accuracy')\r\n",
        "        plt.legend(loc='best')\r\n",
        "        plt.grid()\r\n",
        "        plt.show()"
      ],
      "execution_count": 23,
      "outputs": []
    },
    {
      "cell_type": "code",
      "metadata": {
        "colab": {
          "base_uri": "https://localhost:8080/",
          "height": 316
        },
        "id": "4p8SPOHq9GWn",
        "outputId": "dfd0a207-f58f-430b-ca2d-57cf4f08ca22"
      },
      "source": [
        "train_epochs(25)"
      ],
      "execution_count": 24,
      "outputs": [
        {
          "output_type": "stream",
          "text": [
            "Epoch 24\n",
            "Train accuracy: 0.83794\n",
            "Val accuracy: 0.8538\n"
          ],
          "name": "stdout"
        },
        {
          "output_type": "display_data",
          "data": {
            "image/png": "[encoded data removed]",
            "text/plain": [
              "<Figure size 432x288 with 1 Axes>"
            ]
          },
          "metadata": {
            "tags": [],
            "needs_background": "light"
          }
        }
      ]
    },
    {
      "cell_type": "markdown",
      "metadata": {
        "id": "EYGLVJzc9GWn"
      },
      "source": [
        "### Peer-reviewed assignment\n",
        "\n",
        "Congradulations, you managed to get this far! There is just one quest left undone, and this time you'll get to choose what to do.\n",
        "\n",
        "\n",
        "#### Option I: initialization\n",
        "* Implement Dense layer with Xavier initialization as explained [here](http://bit.ly/2vTlmaJ)\n",
        "\n",
        "To pass this assignment, you must conduct an experiment showing how xavier initialization compares to default initialization on deep networks (5+ layers).\n",
        "\n",
        "\n",
        "#### Option II: regularization\n",
        "* Implement a version of Dense layer with L2 regularization penalty: when updating Dense Layer weights, adjust gradients to minimize\n",
        "\n",
        "$$ Loss = Crossentropy + \\alpha \\cdot \\underset i \\sum {w_i}^2 $$\n",
        "\n",
        "To pass this assignment, you must conduct an experiment showing if regularization mitigates overfitting in case of abundantly large number of neurons. Consider tuning $\\alpha$ for better results.\n",
        "\n",
        "#### Option III: optimization\n",
        "* Implement a version of Dense layer that uses momentum/rmsprop or whatever method worked best for you last time.\n",
        "\n",
        "Most of those methods require persistent parameters like momentum direction or moving average grad norm, but you can easily store those params inside your layers.\n",
        "\n",
        "To pass this assignment, you must conduct an experiment showing how your chosen method performs compared to vanilla SGD.\n",
        "\n",
        "### General remarks\n",
        "_Please read the peer-review guidelines before starting this part of the assignment._\n",
        "\n",
        "In short, a good solution is one that:\n",
        "* is based on this notebook\n",
        "* runs in the default course environment with Run All\n",
        "* its code doesn't cause spontaneous eye bleeding\n",
        "* its report is easy to read.\n",
        "\n",
        "_Formally we can't ban you from writing boring reports, but if you bored your reviewer to death, there's noone left alive to give you the grade you want._\n",
        "\n",
        "\n",
        "### Bonus assignments\n",
        "\n",
        "As a bonus assignment (no points, just swag), consider implementing Batch Normalization ([guide](https://gab41.lab41.org/batch-normalization-what-the-hey-d480039a9e3b)) or Dropout ([guide](https://medium.com/@amarbudhiraja/https-medium-com-amarbudhiraja-learning-less-to-learn-better-dropout-in-deep-machine-learning-74334da4bfc5)). Note, however, that those \"layers\" behave differently when training and when predicting on test set.\n",
        "\n",
        "* Dropout:\n",
        "  * During training: drop units randomly with probability __p__ and multiply everything by __1/(1-p)__\n",
        "  * During final predicton: do nothing; pretend there's no dropout\n",
        "  \n",
        "* Batch normalization\n",
        "  * During training, it substracts mean-over-batch and divides by std-over-batch and updates mean and variance.\n",
        "  * During final prediction, it uses accumulated mean and variance.\n"
      ]
    },
    {
      "cell_type": "code",
      "metadata": {
        "id": "LLm6UWoXMAAf"
      },
      "source": [
        "class SigmoidLayer():\n",
        "    def __init__(self):\n",
        "        pass\n",
        "\n",
        "    def sigmoid(self, x):\n",
        "\t    return 1 / (1 + np.exp(-x))\n",
        "     \n",
        "    def sigmoid_dx(self, x):\n",
        "\t    return self.sigmoid(x) * (1 - self.sigmoid(x))\n",
        "    \n",
        "    def forward(self, input):\n",
        "        return self.sigmoid(input) #np.array([self.sigmoid(xw) for xw in inp])\n",
        "    \n",
        "    def backward(self, input, grad_output):\n",
        "        return self.sigmoid_dx(input) * grad_output"
      ],
      "execution_count": 25,
      "outputs": []
    },
    {
      "cell_type": "code",
      "metadata": {
        "id": "rsJYyxZkMISI"
      },
      "source": [
        "network = []\n",
        "network.append(Dense(X_train.shape[1],300,0.3))\n",
        "network.append(SigmoidLayer())\n",
        "network.append(Dense(300,200,0.2))\n",
        "network.append(SigmoidLayer())\n",
        "network.append(Dense(200,10,0.2))"
      ],
      "execution_count": 26,
      "outputs": []
    },
    {
      "cell_type": "code",
      "metadata": {
        "id": "eSWqFhvWMSzH"
      },
      "source": [
        "#train_epochs(25)"
      ],
      "execution_count": 27,
      "outputs": []
    },
    {
      "cell_type": "markdown",
      "metadata": {
        "id": "mvUmkhxYAs1J"
      },
      "source": [
        "### Adam"
      ]
    },
    {
      "cell_type": "code",
      "metadata": {
        "id": "uU2ArwjbAqzl"
      },
      "source": [
        "network = []\r\n",
        "network.append(Dense(X_train.shape[1],100,0.1,'adam'))\r\n",
        "network.append(ReLU())\r\n",
        "network.append(Dense(100,200,0.1,'adam'))\r\n",
        "network.append(ReLU())\r\n",
        "network.append(Dense(200,10,0.1,'adam'))"
      ],
      "execution_count": 28,
      "outputs": []
    },
    {
      "cell_type": "code",
      "metadata": {
        "colab": {
          "base_uri": "https://localhost:8080/",
          "height": 316
        },
        "id": "5V555dbUAv3f",
        "outputId": "040ebca4-38a4-454e-85c0-212ecc925ac2"
      },
      "source": [
        "train_epochs(25)"
      ],
      "execution_count": 29,
      "outputs": [
        {
          "output_type": "stream",
          "text": [
            "Epoch 24\n",
            "Train accuracy: 0.85866\n",
            "Val accuracy: 0.8711\n"
          ],
          "name": "stdout"
        },
        {
          "output_type": "display_data",
          "data": {
            "image/png": "[encoded data removed]",
            "text/plain": [
              "<Figure size 432x288 with 1 Axes>"
            ]
          },
          "metadata": {
            "tags": [],
            "needs_background": "light"
          }
        }
      ]
    },
    {
      "cell_type": "markdown",
      "metadata": {
        "id": "9cl0vul1Edy_"
      },
      "source": [
        "### Adam + adaptive learning rate"
      ]
    },
    {
      "cell_type": "code",
      "metadata": {
        "id": "-OGEP3GgTnGL"
      },
      "source": [
        "network = []\r\n",
        "network.append(Dense(X_train.shape[1],100,0.1,'adam',True))\r\n",
        "network.append(ReLU())\r\n",
        "network.append(Dense(100,200,0.1,'adam',True))\r\n",
        "network.append(ReLU())\r\n",
        "network.append(Dense(200,10,0.1,'adam',True))"
      ],
      "execution_count": 30,
      "outputs": []
    },
    {
      "cell_type": "code",
      "metadata": {
        "colab": {
          "base_uri": "https://localhost:8080/",
          "height": 316
        },
        "id": "40rkL2WITnsg",
        "outputId": "b85654cb-731d-4873-d635-36b56f747009"
      },
      "source": [
        "train_epochs(25)"
      ],
      "execution_count": 31,
      "outputs": [
        {
          "output_type": "stream",
          "text": [
            "Epoch 24\n",
            "Train accuracy: 0.85656\n",
            "Val accuracy: 0.8711\n"
          ],
          "name": "stdout"
        },
        {
          "output_type": "display_data",
          "data": {
            "image/png": "[encoded data removed]",
            "text/plain": [
              "<Figure size 432x288 with 1 Axes>"
            ]
          },
          "metadata": {
            "tags": [],
            "needs_background": "light"
          }
        }
      ]
    },
    {
      "cell_type": "markdown",
      "metadata": {
        "id": "bUDVnv3Kl87A"
      },
      "source": [
        "### Инициализация весов (к исходной модели)"
      ]
    },
    {
      "cell_type": "code",
      "metadata": {
        "id": "YSCMPJ7YmQHG"
      },
      "source": [
        "network = []\r\n",
        "network.append(Dense(X_train.shape[1],100,0.1,'default',False,'xavier'))\r\n",
        "network.append(ReLU())\r\n",
        "network.append(Dense(100,200,0.1,'default',False,'xavier'))\r\n",
        "network.append(ReLU())\r\n",
        "network.append(Dense(200,10,0.1,'default',False,'xavier'))"
      ],
      "execution_count": 32,
      "outputs": []
    },
    {
      "cell_type": "code",
      "metadata": {
        "id": "YFJdUGU2mns9",
        "colab": {
          "base_uri": "https://localhost:8080/",
          "height": 316
        },
        "outputId": "2b44a661-ad0e-4074-8d3a-8b1725393b8f"
      },
      "source": [
        "train_epochs(25)"
      ],
      "execution_count": 33,
      "outputs": [
        {
          "output_type": "stream",
          "text": [
            "Epoch 24\n",
            "Train accuracy: 0.91984\n",
            "Val accuracy: 0.9266\n"
          ],
          "name": "stdout"
        },
        {
          "output_type": "display_data",
          "data": {
            "image/png": "[encoded data removed]",
            "text/plain": [
              "<Figure size 432x288 with 1 Axes>"
            ]
          },
          "metadata": {
            "tags": [],
            "needs_background": "light"
          }
        }
      ]
    },
    {
      "cell_type": "code",
      "metadata": {
        "id": "3KK13hKrmty-"
      },
      "source": [
        "network = []\r\n",
        "network.append(Dense(X_train.shape[1],100,0.1,'default',False,'kaiming'))\r\n",
        "network.append(ReLU())\r\n",
        "network.append(Dense(100,200,0.1,'default',False,'kaiming'))\r\n",
        "network.append(ReLU())\r\n",
        "network.append(Dense(200,10,0.1,'default',False,'kaiming'))"
      ],
      "execution_count": 34,
      "outputs": []
    },
    {
      "cell_type": "code",
      "metadata": {
        "id": "SJjKbA-2mtmu",
        "colab": {
          "base_uri": "https://localhost:8080/",
          "height": 316
        },
        "outputId": "e6eddb66-c75a-4fbe-cf80-9a715f8f14e9"
      },
      "source": [
        "train_epochs(25)"
      ],
      "execution_count": 35,
      "outputs": [
        {
          "output_type": "stream",
          "text": [
            "Epoch 24\n",
            "Train accuracy: 0.9378\n",
            "Val accuracy: 0.9382\n"
          ],
          "name": "stdout"
        },
        {
          "output_type": "display_data",
          "data": {
            "image/png": "[encoded data removed]",
            "text/plain": [
              "<Figure size 432x288 with 1 Axes>"
            ]
          },
          "metadata": {
            "tags": [],
            "needs_background": "light"
          }
        }
      ]
    },
    {
      "cell_type": "markdown",
      "metadata": {
        "id": "RoiQs_h-mJLP"
      },
      "source": [
        "### Инициализация весов + Adam"
      ]
    },
    {
      "cell_type": "code",
      "metadata": {
        "id": "0YxGT5CPmqQ9"
      },
      "source": [
        "network = []\r\n",
        "network.append(Dense(X_train.shape[1],100,0.1,'adam',False,'xavier'))\r\n",
        "network.append(ReLU())\r\n",
        "network.append(Dense(100,200,0.1,'adam',False,'xavier'))\r\n",
        "network.append(ReLU())\r\n",
        "network.append(Dense(200,10,0.1,'adam',False,'xavier'))"
      ],
      "execution_count": 36,
      "outputs": []
    },
    {
      "cell_type": "code",
      "metadata": {
        "id": "aIGJ0ABsmzO9",
        "colab": {
          "base_uri": "https://localhost:8080/",
          "height": 316
        },
        "outputId": "be0e20e6-17d9-4007-adb7-2e6b99805c3d"
      },
      "source": [
        "train_epochs(25)"
      ],
      "execution_count": 37,
      "outputs": [
        {
          "output_type": "stream",
          "text": [
            "Epoch 24\n",
            "Train accuracy: 0.85156\n",
            "Val accuracy: 0.8571\n"
          ],
          "name": "stdout"
        },
        {
          "output_type": "display_data",
          "data": {
            "image/png": "[encoded data removed]",
            "text/plain": [
              "<Figure size 432x288 with 1 Axes>"
            ]
          },
          "metadata": {
            "tags": [],
            "needs_background": "light"
          }
        }
      ]
    },
    {
      "cell_type": "code",
      "metadata": {
        "id": "nJmQdtY7mzlN"
      },
      "source": [
        "network = []\r\n",
        "network.append(Dense(X_train.shape[1],100,0.1,'adam',False,'kaiming'))\r\n",
        "network.append(ReLU())\r\n",
        "network.append(Dense(100,200,0.1,'adam',False,'kaiming'))\r\n",
        "network.append(ReLU())\r\n",
        "network.append(Dense(200,10,0.1,'adam',False,'kaiming'))"
      ],
      "execution_count": 38,
      "outputs": []
    },
    {
      "cell_type": "code",
      "metadata": {
        "id": "q6mFSE6dmz4V",
        "colab": {
          "base_uri": "https://localhost:8080/",
          "height": 316
        },
        "outputId": "dcc209b9-ecc7-4b62-9afe-4c5e446a13da"
      },
      "source": [
        "train_epochs(25)"
      ],
      "execution_count": 39,
      "outputs": [
        {
          "output_type": "stream",
          "text": [
            "Epoch 24\n",
            "Train accuracy: 0.86054\n",
            "Val accuracy: 0.8689\n"
          ],
          "name": "stdout"
        },
        {
          "output_type": "display_data",
          "data": {
            "image/png": "[encoded data removed]",
            "text/plain": [
              "<Figure size 432x288 with 1 Axes>"
            ]
          },
          "metadata": {
            "tags": [],
            "needs_background": "light"
          }
        }
      ]
    },
    {
      "cell_type": "markdown",
      "metadata": {
        "id": "HDIdfF31mMDW"
      },
      "source": [
        "### Инициализация весов + Adam + learning scheduler"
      ]
    },
    {
      "cell_type": "code",
      "metadata": {
        "id": "w_KrmTd-m5cN"
      },
      "source": [
        "network = []\r\n",
        "network.append(Dense(X_train.shape[1],100,0.1,'adam',True,'xavier'))\r\n",
        "network.append(ReLU())\r\n",
        "network.append(Dense(100,200,0.1,'adam',True,'xavier'))\r\n",
        "network.append(ReLU())\r\n",
        "network.append(Dense(200,10,0.1,'adam',True,'xavier'))"
      ],
      "execution_count": 40,
      "outputs": []
    },
    {
      "cell_type": "code",
      "metadata": {
        "id": "DZbxAe40m5Ud",
        "colab": {
          "base_uri": "https://localhost:8080/",
          "height": 316
        },
        "outputId": "02395f03-1518-401a-8f27-6512ee91be1a"
      },
      "source": [
        "train_epochs(25)"
      ],
      "execution_count": 41,
      "outputs": [
        {
          "output_type": "stream",
          "text": [
            "Epoch 24\n",
            "Train accuracy: 0.88688\n",
            "Val accuracy: 0.8992\n"
          ],
          "name": "stdout"
        },
        {
          "output_type": "display_data",
          "data": {
            "image/png": "[encoded data removed]",
            "text/plain": [
              "<Figure size 432x288 with 1 Axes>"
            ]
          },
          "metadata": {
            "tags": [],
            "needs_background": "light"
          }
        }
      ]
    },
    {
      "cell_type": "code",
      "metadata": {
        "id": "-wbzB191m5M9"
      },
      "source": [
        "network = []\r\n",
        "network.append(Dense(X_train.shape[1],100,0.1,'adam',True,'kaiming'))\r\n",
        "network.append(ReLU())\r\n",
        "network.append(Dense(100,200,0.1,'adam',True,'kaiming'))\r\n",
        "network.append(ReLU())\r\n",
        "network.append(Dense(200,10,0.1,'adam',True,'kaiming'))"
      ],
      "execution_count": 42,
      "outputs": []
    },
    {
      "cell_type": "code",
      "metadata": {
        "id": "FRIAFhwLm4_d",
        "colab": {
          "base_uri": "https://localhost:8080/",
          "height": 316
        },
        "outputId": "867d5091-4818-4b46-a534-39506a8821bd"
      },
      "source": [
        "train_epochs(25)"
      ],
      "execution_count": 43,
      "outputs": [
        {
          "output_type": "stream",
          "text": [
            "Epoch 24\n",
            "Train accuracy: 0.88372\n",
            "Val accuracy: 0.8919\n"
          ],
          "name": "stdout"
        },
        {
          "output_type": "display_data",
          "data": {
            "image/png": "[encoded data removed]",
            "text/plain": [
              "<Figure size 432x288 with 1 Axes>"
            ]
          },
          "metadata": {
            "tags": [],
            "needs_background": "light"
          }
        }
      ]
    },
    {
      "cell_type": "markdown",
      "metadata": {
        "id": "jCLYxU0PYzC-"
      },
      "source": [
        "### Dropout"
      ]
    },
    {
      "cell_type": "code",
      "metadata": {
        "id": "ifiBzGNtWTng"
      },
      "source": [
        "network = []\r\n",
        "network.append(Dense(X_train.shape[1],100,0.1,'default',False,'kaiming'))\r\n",
        "network.append(ReLU())\r\n",
        "network.append(Dropout(0.5))\r\n",
        "network.append(Dense(100,200,0.1,'default',False,'kaiming'))\r\n",
        "network.append(ReLU())\r\n",
        "network.append(Dropout(0.5))\r\n",
        "network.append(Dense(200,10,0.1,'default',False,'kaiming'))"
      ],
      "execution_count": 44,
      "outputs": []
    },
    {
      "cell_type": "code",
      "metadata": {
        "colab": {
          "base_uri": "https://localhost:8080/",
          "height": 316
        },
        "id": "lVcWvEWJXVRs",
        "outputId": "0102c6c8-8531-4c30-9430-94802f1f12a0"
      },
      "source": [
        "train_epochs(25)"
      ],
      "execution_count": 45,
      "outputs": [
        {
          "output_type": "stream",
          "text": [
            "Epoch 24\n",
            "Train accuracy: 0.81858\n",
            "Val accuracy: 0.8353\n"
          ],
          "name": "stdout"
        },
        {
          "output_type": "display_data",
          "data": {
            "image/png": "[encoded data removed]",
            "text/plain": [
              "<Figure size 432x288 with 1 Axes>"
            ]
          },
          "metadata": {
            "tags": [],
            "needs_background": "light"
          }
        }
      ]
    },
    {
      "cell_type": "markdown",
      "metadata": {
        "id": "gCkBEEE26xC_"
      },
      "source": [
        "## Разбор простейшего примера\n",
        "\n",
        "https://www.youtube.com/watch?v=HA-F6cZPvrg"
      ]
    },
    {
      "cell_type": "markdown",
      "metadata": {
        "id": "zMiCVYLtKfxo"
      },
      "source": [
        "### Forward"
      ]
    },
    {
      "cell_type": "code",
      "metadata": {
        "id": "TZYCSAVxK654"
      },
      "source": [
        "def sigmoid(x):\n",
        "  return 1 / (1 + np.exp(-x))\n",
        "  \n",
        "def sigmoid_dx(x):\n",
        "  return x * (1 - x)"
      ],
      "execution_count": 46,
      "outputs": []
    },
    {
      "cell_type": "code",
      "metadata": {
        "id": "ZRDWsMt66ztO"
      },
      "source": [
        "X = np.array([[1, 1, 0]])\n",
        "y = 0"
      ],
      "execution_count": 47,
      "outputs": []
    },
    {
      "cell_type": "code",
      "metadata": {
        "id": "1w25uVFW7FpG"
      },
      "source": [
        "W = np.array([ [0.79, 0.85], [0.44, 0.43], [0.43, 0.29]])"
      ],
      "execution_count": 48,
      "outputs": []
    },
    {
      "cell_type": "code",
      "metadata": {
        "id": "v09oF9Xw8edB",
        "colab": {
          "base_uri": "https://localhost:8080/"
        },
        "outputId": "01919d2c-fa38-4d1f-efc3-5a789fdb5802"
      },
      "source": [
        "XW = np.dot(X, W)\n",
        "print(XW)\n",
        "layer_2 = np.array([sigmoid(xw) for xw in XW])\n",
        "print(layer_2)"
      ],
      "execution_count": 49,
      "outputs": [
        {
          "output_type": "stream",
          "text": [
            "[[1.23 1.28]]\n",
            "[[0.77381857 0.78244978]]\n"
          ],
          "name": "stdout"
        }
      ]
    },
    {
      "cell_type": "code",
      "metadata": {
        "id": "LyLAaDmGBk0g"
      },
      "source": [
        "W2 = np.array([ [0.5], [0.52] ])"
      ],
      "execution_count": 50,
      "outputs": []
    },
    {
      "cell_type": "code",
      "metadata": {
        "id": "YCi6wdgcDAOo",
        "colab": {
          "base_uri": "https://localhost:8080/"
        },
        "outputId": "4840be23-ce61-4c85-8b30-78184b21c28b"
      },
      "source": [
        "LW2 = np.dot(layer_2, W2)\n",
        "print(LW2)\n",
        "layer_output = np.array([sigmoid(xw) for xw in LW2])\n",
        "print(layer_output)"
      ],
      "execution_count": 51,
      "outputs": [
        {
          "output_type": "stream",
          "text": [
            "[[0.79378317]]\n",
            "[[0.68864307]]\n"
          ],
          "name": "stdout"
        }
      ]
    },
    {
      "cell_type": "code",
      "metadata": {
        "id": "VuHROg0DDRlA"
      },
      "source": [
        "class TestLayer():\n",
        "    def __init__(self, W):\n",
        "        self.learning_rate = 0.1\n",
        "        self.weights = W\n",
        "        \n",
        "    def forward(self,input):\n",
        "        return sigmoid(np.dot(input, self.weights)) #+ self.biases\n",
        "    \n",
        "    def backward(self,input,grad_output):\n",
        "        print(f'Исходный grad_output: {grad_output}')\n",
        "        \n",
        "        print('Исходные нейроны:')\n",
        "        print(input.T)\n",
        "\n",
        "        print('Исходные веса:')\n",
        "        print(self.weights)\n",
        "        \n",
        "        \n",
        "        grad_weights = np.dot(input.T, grad_output)\n",
        "\n",
        "        self.weights = self.weights - self.learning_rate * grad_weights\n",
        "        grad_input = np.dot(grad_output, self.weights.T)\n",
        "        print('Скорректированные веса:')\n",
        "        print(self.weights)\n",
        "        print('-----')\n",
        "        return grad_input"
      ],
      "execution_count": 52,
      "outputs": []
    },
    {
      "cell_type": "code",
      "metadata": {
        "id": "MjeI2wNnEyR4"
      },
      "source": [
        "nw = []\n",
        "nw.append(TestLayer(W))\n",
        "nw.append(TestLayer(W2))"
      ],
      "execution_count": 53,
      "outputs": []
    },
    {
      "cell_type": "code",
      "metadata": {
        "id": "vbMCZTalIR7o",
        "colab": {
          "base_uri": "https://localhost:8080/"
        },
        "outputId": "fc9b88a0-7911-406c-df67-79e5d81baf1b"
      },
      "source": [
        "TL0 = X\n",
        "TL1 = nw[0].forward(TL0)\n",
        "TL2 = nw[1].forward(TL1)\n",
        "print(TL0)\n",
        "print(TL1)\n",
        "print(TL2)"
      ],
      "execution_count": 54,
      "outputs": [
        {
          "output_type": "stream",
          "text": [
            "[[1 1 0]]\n",
            "[[0.77381857 0.78244978]]\n",
            "[[0.68864307]]\n"
          ],
          "name": "stdout"
        }
      ]
    },
    {
      "cell_type": "code",
      "metadata": {
        "id": "ahFieKGUGD4g",
        "colab": {
          "base_uri": "https://localhost:8080/"
        },
        "outputId": "2501aea6-ec62-4969-a8f7-68bbc490b49b"
      },
      "source": [
        "temp_x = X\n",
        "print(temp_x)\n",
        "for layer in nw:\n",
        "  temp_x = layer.forward(temp_x)\n",
        "  print(temp_x)"
      ],
      "execution_count": 55,
      "outputs": [
        {
          "output_type": "stream",
          "text": [
            "[[1 1 0]]\n",
            "[[0.77381857 0.78244978]]\n",
            "[[0.68864307]]\n"
          ],
          "name": "stdout"
        }
      ]
    },
    {
      "cell_type": "markdown",
      "metadata": {
        "id": "flGyyL_TKkAR"
      },
      "source": [
        "### Backward"
      ]
    },
    {
      "cell_type": "code",
      "metadata": {
        "id": "m8sKVQypKl_g"
      },
      "source": [
        "actual = TL2\n",
        "expected = y\n",
        "error_2 = actual - expected"
      ],
      "execution_count": 56,
      "outputs": []
    },
    {
      "cell_type": "code",
      "metadata": {
        "id": "KjCkB1Wf0BBm",
        "colab": {
          "base_uri": "https://localhost:8080/"
        },
        "outputId": "289555c5-a563-4a79-d070-b4168b0cf74b"
      },
      "source": [
        "gradient_2 = sigmoid_dx(actual)\n",
        "gradient_2"
      ],
      "execution_count": 57,
      "outputs": [
        {
          "output_type": "execute_result",
          "data": {
            "text/plain": [
              "array([[0.21441379]])"
            ]
          },
          "metadata": {
            "tags": []
          },
          "execution_count": 57
        }
      ]
    },
    {
      "cell_type": "code",
      "metadata": {
        "id": "h5V3vIZ8R62s",
        "colab": {
          "base_uri": "https://localhost:8080/"
        },
        "outputId": "af17b8f5-dcba-45b5-cda0-ceec22c765f6"
      },
      "source": [
        "weights_delta_2 = gradient_2 * error_2\n",
        "weights_delta_2"
      ],
      "execution_count": 58,
      "outputs": [
        {
          "output_type": "execute_result",
          "data": {
            "text/plain": [
              "array([[0.14765457]])"
            ]
          },
          "metadata": {
            "tags": []
          },
          "execution_count": 58
        }
      ]
    },
    {
      "cell_type": "code",
      "metadata": {
        "id": "_6xGjxxXLKfg",
        "colab": {
          "base_uri": "https://localhost:8080/"
        },
        "outputId": "01c8d80b-3e1a-4827-a550-f7694e08e76c"
      },
      "source": [
        "error_1 = nw[1].backward(TL1, weights_delta_2)\n",
        "error_1"
      ],
      "execution_count": 59,
      "outputs": [
        {
          "output_type": "stream",
          "text": [
            "Исходный grad_output: [[0.14765457]]\n",
            "Исходные нейроны:\n",
            "[[0.77381857]\n",
            " [0.78244978]]\n",
            "Исходные веса:\n",
            "[[0.5 ]\n",
            " [0.52]]\n",
            "Скорректированные веса:\n",
            "[[0.48857421]\n",
            " [0.50844677]]\n",
            "-----\n"
          ],
          "name": "stdout"
        },
        {
          "output_type": "execute_result",
          "data": {
            "text/plain": [
              "array([[0.07214022, 0.07507449]])"
            ]
          },
          "metadata": {
            "tags": []
          },
          "execution_count": 59
        }
      ]
    },
    {
      "cell_type": "code",
      "metadata": {
        "id": "Whks4rdiToz0",
        "colab": {
          "base_uri": "https://localhost:8080/"
        },
        "outputId": "5a823972-8827-4006-ec1d-9c45f212f5a8"
      },
      "source": [
        "gradient_1 = sigmoid_dx(TL1)\n",
        "gradient_1"
      ],
      "execution_count": 60,
      "outputs": [
        {
          "output_type": "execute_result",
          "data": {
            "text/plain": [
              "array([[0.17502339, 0.17022212]])"
            ]
          },
          "metadata": {
            "tags": []
          },
          "execution_count": 60
        }
      ]
    },
    {
      "cell_type": "code",
      "metadata": {
        "id": "tC5pFJVBUEiL",
        "colab": {
          "base_uri": "https://localhost:8080/"
        },
        "outputId": "a8563bb0-b10e-4c99-8f78-05f889639ef4"
      },
      "source": [
        "weights_delta_1 = gradient_1 * error_1\n",
        "weights_delta_1"
      ],
      "execution_count": 61,
      "outputs": [
        {
          "output_type": "execute_result",
          "data": {
            "text/plain": [
              "array([[0.01262623, 0.01277934]])"
            ]
          },
          "metadata": {
            "tags": []
          },
          "execution_count": 61
        }
      ]
    },
    {
      "cell_type": "code",
      "metadata": {
        "id": "oxollzNdTpzZ",
        "colab": {
          "base_uri": "https://localhost:8080/"
        },
        "outputId": "cefe8938-53aa-4a22-f232-e7f4e69b1d57"
      },
      "source": [
        "error_0 = nw[0].backward(TL0, weights_delta_1)\n",
        "error_0"
      ],
      "execution_count": 62,
      "outputs": [
        {
          "output_type": "stream",
          "text": [
            "Исходный grad_output: [[0.01262623 0.01277934]]\n",
            "Исходные нейроны:\n",
            "[[1]\n",
            " [1]\n",
            " [0]]\n",
            "Исходные веса:\n",
            "[[0.79 0.85]\n",
            " [0.44 0.43]\n",
            " [0.43 0.29]]\n",
            "Скорректированные веса:\n",
            "[[0.78873738 0.84872207]\n",
            " [0.43873738 0.42872207]\n",
            " [0.43       0.29      ]]\n",
            "-----\n"
          ],
          "name": "stdout"
        },
        {
          "output_type": "execute_result",
          "data": {
            "text/plain": [
              "array([[0.02080488, 0.01101838, 0.00913529]])"
            ]
          },
          "metadata": {
            "tags": []
          },
          "execution_count": 62
        }
      ]
    },
    {
      "cell_type": "markdown",
      "metadata": {
        "id": "W7ZqfPCvsbbT"
      },
      "source": [
        "### Test "
      ]
    },
    {
      "cell_type": "code",
      "metadata": {
        "id": "7IIXL9O4iUpf"
      },
      "source": [
        "from tensorflow.keras.datasets.cifar10 import load_data\r\n",
        "def load_dataset_cifar(flatten=False):\r\n",
        "    (X_train, y_train), (X_test, y_test) = tf.keras.datasets.cifar10.load_data()\r\n",
        "\r\n",
        "    # normalize x\r\n",
        "    X_train = X_train.astype(float) / 255.\r\n",
        "    X_test = X_test.astype(float) / 255.\r\n",
        "\r\n",
        "    # we reserve the last 10000 training examples for validation\r\n",
        "    X_train, X_val = X_train[:-10000], X_train[-10000:]\r\n",
        "    y_train, y_val = y_train[:-10000].reshape(-1), y_train[-10000:].reshape(-1)\r\n",
        "\r\n",
        "    if flatten:\r\n",
        "        X_train = X_train.reshape([X_train.shape[0], -1])\r\n",
        "        X_val = X_val.reshape([X_val.shape[0], -1])\r\n",
        "        X_test = X_test.reshape([X_test.shape[0], -1])\r\n",
        "\r\n",
        "    return X_train, y_train, X_val, y_val, X_test, y_test"
      ],
      "execution_count": 63,
      "outputs": []
    },
    {
      "cell_type": "code",
      "metadata": {
        "id": "BTnBXT0Sihhw"
      },
      "source": [
        "X_train_cifar, y_train_cifar, X_val_cifar, y_val_cifar, X_test_cifar, y_test_cifar = load_dataset_cifar(flatten=True)"
      ],
      "execution_count": 64,
      "outputs": []
    },
    {
      "cell_type": "code",
      "metadata": {
        "id": "1ZA8pH0RrBSC",
        "colab": {
          "base_uri": "https://localhost:8080/"
        },
        "outputId": "7d3b6af9-211c-4542-d9aa-c0ef9fd7b48a"
      },
      "source": [
        "X_train_cifar.shape"
      ],
      "execution_count": 65,
      "outputs": [
        {
          "output_type": "execute_result",
          "data": {
            "text/plain": [
              "(40000, 3072)"
            ]
          },
          "metadata": {
            "tags": []
          },
          "execution_count": 65
        }
      ]
    },
    {
      "cell_type": "code",
      "metadata": {
        "id": "ArzGq51HrFeR",
        "colab": {
          "base_uri": "https://localhost:8080/"
        },
        "outputId": "053abb6e-d509-423b-fab6-94979f716a14"
      },
      "source": [
        "X_train_cifar"
      ],
      "execution_count": 66,
      "outputs": [
        {
          "output_type": "execute_result",
          "data": {
            "text/plain": [
              "array([[0.23137255, 0.24313725, 0.24705882, ..., 0.48235294, 0.36078431,\n",
              "        0.28235294],\n",
              "       [0.60392157, 0.69411765, 0.73333333, ..., 0.56078431, 0.52156863,\n",
              "        0.56470588],\n",
              "       [1.        , 1.        , 1.        , ..., 0.31372549, 0.3372549 ,\n",
              "        0.32941176],\n",
              "       ...,\n",
              "       [0.65490196, 0.55294118, 0.43137255, ..., 0.63137255, 0.5254902 ,\n",
              "        0.50980392],\n",
              "       [0.17647059, 0.29803922, 0.49803922, ..., 0.24313725, 0.20784314,\n",
              "        0.09411765],\n",
              "       [0.92156863, 0.98823529, 0.98823529, ..., 0.63921569, 0.6627451 ,\n",
              "        0.68235294]])"
            ]
          },
          "metadata": {
            "tags": []
          },
          "execution_count": 66
        }
      ]
    },
    {
      "cell_type": "code",
      "metadata": {
        "id": "UC5OB8VEkqE-",
        "colab": {
          "base_uri": "https://localhost:8080/"
        },
        "outputId": "4a810894-6fad-4ae9-a410-c9f7f99e2cf2"
      },
      "source": [
        "X_train_cifar[1].shape"
      ],
      "execution_count": 67,
      "outputs": [
        {
          "output_type": "execute_result",
          "data": {
            "text/plain": [
              "(3072,)"
            ]
          },
          "metadata": {
            "tags": []
          },
          "execution_count": 67
        }
      ]
    },
    {
      "cell_type": "code",
      "metadata": {
        "id": "nsqbYzDirDF4",
        "colab": {
          "base_uri": "https://localhost:8080/"
        },
        "outputId": "716929b7-f744-45c3-b051-864ace5df075"
      },
      "source": [
        "y_train_cifar.shape"
      ],
      "execution_count": 68,
      "outputs": [
        {
          "output_type": "execute_result",
          "data": {
            "text/plain": [
              "(40000,)"
            ]
          },
          "metadata": {
            "tags": []
          },
          "execution_count": 68
        }
      ]
    },
    {
      "cell_type": "code",
      "metadata": {
        "id": "c4ckboEhrEV3",
        "colab": {
          "base_uri": "https://localhost:8080/"
        },
        "outputId": "199a8d4e-e8b9-4508-d996-ae4feb9901b6"
      },
      "source": [
        "y_train_cifar"
      ],
      "execution_count": 69,
      "outputs": [
        {
          "output_type": "execute_result",
          "data": {
            "text/plain": [
              "array([6, 9, 9, ..., 6, 2, 8], dtype=uint8)"
            ]
          },
          "metadata": {
            "tags": []
          },
          "execution_count": 69
        }
      ]
    },
    {
      "cell_type": "code",
      "metadata": {
        "id": "SyLgVsDxh8V5"
      },
      "source": [
        "network = []\r\n",
        "network.append(Dense(X_train_cifar.shape[1],100,0.001,'adam'))\r\n",
        "network.append(ReLU())\r\n",
        "network.append(Dense(100,200,0.001,'adam'))\r\n",
        "network.append(ReLU())\r\n",
        "network.append(Dense(200,10,0.001,'adam'))"
      ],
      "execution_count": 70,
      "outputs": []
    },
    {
      "cell_type": "code",
      "metadata": {
        "id": "GfMswVyZhsEX",
        "colab": {
          "base_uri": "https://localhost:8080/",
          "height": 316
        },
        "outputId": "1d7d8b0c-2f94-44bc-face-4e900e1afabc"
      },
      "source": [
        "train_log = []\r\n",
        "val_log = []\r\n",
        "\r\n",
        "for epoch in range(1, 25):\r\n",
        "\r\n",
        "    for x_batch,y_batch in iterate_minibatches(X_train_cifar,y_train_cifar,batchsize=32,shuffle=True):\r\n",
        "        train(network,x_batch,y_batch,epoch)\r\n",
        "    \r\n",
        "    train_log.append(np.mean(predict(network,X_train_cifar)==y_train_cifar))\r\n",
        "    val_log.append(np.mean(predict(network,X_val_cifar)==y_val_cifar))\r\n",
        "    \r\n",
        "    clear_output()\r\n",
        "    print(\"Epoch\",epoch)\r\n",
        "    print(\"Train accuracy:\",train_log[-1])\r\n",
        "    print(\"Val accuracy:\",val_log[-1])\r\n",
        "    plt.plot(train_log,label='train accuracy')\r\n",
        "    plt.plot(val_log,label='val accuracy')\r\n",
        "    plt.legend(loc='best')\r\n",
        "    plt.grid()\r\n",
        "    plt.show()"
      ],
      "execution_count": 71,
      "outputs": [
        {
          "output_type": "stream",
          "text": [
            "Epoch 24\n",
            "Train accuracy: 0.347475\n",
            "Val accuracy: 0.3381\n"
          ],
          "name": "stdout"
        },
        {
          "output_type": "display_data",
          "data": {
            "image/png": "[encoded data removed]",
            "text/plain": [
              "<Figure size 432x288 with 1 Axes>"
            ]
          },
          "metadata": {
            "tags": [],
            "needs_background": "light"
          }
        }
      ]
    }
  ]
}